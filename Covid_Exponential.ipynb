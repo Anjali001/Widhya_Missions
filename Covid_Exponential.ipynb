{
  "nbformat": 4,
  "nbformat_minor": 0,
  "metadata": {
    "colab": {
      "name": "Covid_Exponential.ipynb",
      "provenance": [],
      "collapsed_sections": [],
      "authorship_tag": "ABX9TyNb27dF15Xb9g6BVRtGl2Yc",
      "include_colab_link": true
    },
    "kernelspec": {
      "name": "python3",
      "display_name": "Python 3"
    }
  },
  "cells": [
    {
      "cell_type": "markdown",
      "metadata": {
        "id": "view-in-github",
        "colab_type": "text"
      },
      "source": [
        "<a href=\"https://colab.research.google.com/github/Anjali001/Widhya_Missions/blob/main/Covid_Exponential.ipynb\" target=\"_parent\"><img src=\"https://colab.research.google.com/assets/colab-badge.svg\" alt=\"Open In Colab\"/></a>"
      ]
    },
    {
      "cell_type": "markdown",
      "metadata": {
        "id": "BUx9l8THGYN8"
      },
      "source": [
        "### Importing Libararies"
      ]
    },
    {
      "cell_type": "code",
      "metadata": {
        "id": "yTuu7MYWegLp"
      },
      "source": [
        "import pandas as pd\n",
        "import numpy as np\n",
        "import matplotlib.pyplot as plt\n",
        "%matplotlib inline"
      ],
      "execution_count": null,
      "outputs": []
    },
    {
      "cell_type": "markdown",
      "metadata": {
        "id": "hEY7DciLGhWS"
      },
      "source": [
        "### Reading Data "
      ]
    },
    {
      "cell_type": "code",
      "metadata": {
        "id": "BRujHnC-g2hY",
        "outputId": "2a8f3683-d381-4684-9713-0aaaa35e598f",
        "colab": {
          "base_uri": "https://localhost:8080/",
          "height": 343
        }
      },
      "source": [
        "data = pd.read_csv(\"https://raw.githubusercontent.com/WidhyaOrg/datasets/master/covid19.csv\")\n",
        "data.head(10)"
      ],
      "execution_count": null,
      "outputs": [
        {
          "output_type": "execute_result",
          "data": {
            "text/html": [
              "<div>\n",
              "<style scoped>\n",
              "    .dataframe tbody tr th:only-of-type {\n",
              "        vertical-align: middle;\n",
              "    }\n",
              "\n",
              "    .dataframe tbody tr th {\n",
              "        vertical-align: top;\n",
              "    }\n",
              "\n",
              "    .dataframe thead th {\n",
              "        text-align: right;\n",
              "    }\n",
              "</style>\n",
              "<table border=\"1\" class=\"dataframe\">\n",
              "  <thead>\n",
              "    <tr style=\"text-align: right;\">\n",
              "      <th></th>\n",
              "      <th>Sno</th>\n",
              "      <th>Date</th>\n",
              "      <th>State/UnionTerritory</th>\n",
              "      <th>ConfirmedIndianNational</th>\n",
              "      <th>ConfirmedForeignNational</th>\n",
              "      <th>Cured</th>\n",
              "      <th>Deaths</th>\n",
              "    </tr>\n",
              "  </thead>\n",
              "  <tbody>\n",
              "    <tr>\n",
              "      <th>0</th>\n",
              "      <td>1</td>\n",
              "      <td>30/01/20</td>\n",
              "      <td>Kerala</td>\n",
              "      <td>1</td>\n",
              "      <td>0</td>\n",
              "      <td>0</td>\n",
              "      <td>0</td>\n",
              "    </tr>\n",
              "    <tr>\n",
              "      <th>1</th>\n",
              "      <td>2</td>\n",
              "      <td>31/01/20</td>\n",
              "      <td>Kerala</td>\n",
              "      <td>1</td>\n",
              "      <td>0</td>\n",
              "      <td>0</td>\n",
              "      <td>0</td>\n",
              "    </tr>\n",
              "    <tr>\n",
              "      <th>2</th>\n",
              "      <td>3</td>\n",
              "      <td>01/02/20</td>\n",
              "      <td>Kerala</td>\n",
              "      <td>2</td>\n",
              "      <td>0</td>\n",
              "      <td>0</td>\n",
              "      <td>0</td>\n",
              "    </tr>\n",
              "    <tr>\n",
              "      <th>3</th>\n",
              "      <td>4</td>\n",
              "      <td>02/02/20</td>\n",
              "      <td>Kerala</td>\n",
              "      <td>3</td>\n",
              "      <td>0</td>\n",
              "      <td>0</td>\n",
              "      <td>0</td>\n",
              "    </tr>\n",
              "    <tr>\n",
              "      <th>4</th>\n",
              "      <td>5</td>\n",
              "      <td>03/02/20</td>\n",
              "      <td>Kerala</td>\n",
              "      <td>3</td>\n",
              "      <td>0</td>\n",
              "      <td>0</td>\n",
              "      <td>0</td>\n",
              "    </tr>\n",
              "    <tr>\n",
              "      <th>5</th>\n",
              "      <td>6</td>\n",
              "      <td>04/02/20</td>\n",
              "      <td>Kerala</td>\n",
              "      <td>3</td>\n",
              "      <td>0</td>\n",
              "      <td>0</td>\n",
              "      <td>0</td>\n",
              "    </tr>\n",
              "    <tr>\n",
              "      <th>6</th>\n",
              "      <td>7</td>\n",
              "      <td>05/02/20</td>\n",
              "      <td>Kerala</td>\n",
              "      <td>3</td>\n",
              "      <td>0</td>\n",
              "      <td>0</td>\n",
              "      <td>0</td>\n",
              "    </tr>\n",
              "    <tr>\n",
              "      <th>7</th>\n",
              "      <td>8</td>\n",
              "      <td>06/02/20</td>\n",
              "      <td>Kerala</td>\n",
              "      <td>3</td>\n",
              "      <td>0</td>\n",
              "      <td>0</td>\n",
              "      <td>0</td>\n",
              "    </tr>\n",
              "    <tr>\n",
              "      <th>8</th>\n",
              "      <td>9</td>\n",
              "      <td>07/02/20</td>\n",
              "      <td>Kerala</td>\n",
              "      <td>3</td>\n",
              "      <td>0</td>\n",
              "      <td>0</td>\n",
              "      <td>0</td>\n",
              "    </tr>\n",
              "    <tr>\n",
              "      <th>9</th>\n",
              "      <td>10</td>\n",
              "      <td>08/02/20</td>\n",
              "      <td>Kerala</td>\n",
              "      <td>3</td>\n",
              "      <td>0</td>\n",
              "      <td>0</td>\n",
              "      <td>0</td>\n",
              "    </tr>\n",
              "  </tbody>\n",
              "</table>\n",
              "</div>"
            ],
            "text/plain": [
              "   Sno      Date State/UnionTerritory  ...  ConfirmedForeignNational  Cured  Deaths\n",
              "0    1  30/01/20               Kerala  ...                         0      0       0\n",
              "1    2  31/01/20               Kerala  ...                         0      0       0\n",
              "2    3  01/02/20               Kerala  ...                         0      0       0\n",
              "3    4  02/02/20               Kerala  ...                         0      0       0\n",
              "4    5  03/02/20               Kerala  ...                         0      0       0\n",
              "5    6  04/02/20               Kerala  ...                         0      0       0\n",
              "6    7  05/02/20               Kerala  ...                         0      0       0\n",
              "7    8  06/02/20               Kerala  ...                         0      0       0\n",
              "8    9  07/02/20               Kerala  ...                         0      0       0\n",
              "9   10  08/02/20               Kerala  ...                         0      0       0\n",
              "\n",
              "[10 rows x 7 columns]"
            ]
          },
          "metadata": {
            "tags": []
          },
          "execution_count": 44
        }
      ]
    },
    {
      "cell_type": "markdown",
      "metadata": {
        "id": "OFqUeKmTGmjT"
      },
      "source": [
        "### Adding Total Column"
      ]
    },
    {
      "cell_type": "code",
      "metadata": {
        "id": "vxi9SZ3E5Gxm"
      },
      "source": [
        "data['Total']=data['ConfirmedIndianNational'].values + data['ConfirmedForeignNational'].values + data['Cured'].values + data['Deaths'].values"
      ],
      "execution_count": null,
      "outputs": []
    },
    {
      "cell_type": "code",
      "metadata": {
        "id": "-vZK_KLKhGJW"
      },
      "source": [
        "datae = data.groupby(by = data.Date, sort = False).sum()\n"
      ],
      "execution_count": null,
      "outputs": []
    },
    {
      "cell_type": "code",
      "metadata": {
        "id": "M4Gyrx6UlwOu",
        "outputId": "6999750e-fb11-47ca-b1d9-e4b9abc5ca57",
        "colab": {
          "base_uri": "https://localhost:8080/",
          "height": 958
        }
      },
      "source": [
        "print(datae)"
      ],
      "execution_count": null,
      "outputs": [
        {
          "output_type": "stream",
          "text": [
            "           Sno  ConfirmedIndianNational  ...  Deaths  Total\n",
            "Date                                     ...               \n",
            "30/01/20     1                        1  ...       0      1\n",
            "31/01/20     2                        1  ...       0      1\n",
            "01/02/20     3                        2  ...       0      2\n",
            "02/02/20     4                        3  ...       0      3\n",
            "03/02/20     5                        3  ...       0      3\n",
            "04/02/20     6                        3  ...       0      3\n",
            "05/02/20     7                        3  ...       0      3\n",
            "06/02/20     8                        3  ...       0      3\n",
            "07/02/20     9                        3  ...       0      3\n",
            "08/02/20    10                        3  ...       0      3\n",
            "09/02/20    11                        3  ...       0      3\n",
            "10/02/20    12                        3  ...       0      3\n",
            "11/02/20    13                        3  ...       0      3\n",
            "12/02/20    14                        3  ...       0      3\n",
            "13/02/20    15                        3  ...       0      3\n",
            "14/02/20    16                        3  ...       0      3\n",
            "15/02/20    17                        3  ...       0      3\n",
            "16/02/20    18                        3  ...       0      3\n",
            "17/02/20    19                        3  ...       0      3\n",
            "18/02/20    20                        3  ...       0      3\n",
            "19/02/20    21                        3  ...       0      3\n",
            "20/02/20    22                        3  ...       0      3\n",
            "21/02/20    23                        3  ...       0      3\n",
            "22/02/20    24                        3  ...       0      3\n",
            "23/02/20    25                        3  ...       0      3\n",
            "24/02/20    26                        3  ...       0      3\n",
            "25/02/20    27                        3  ...       0      3\n",
            "26/02/20    28                        3  ...       0      3\n",
            "27/02/20    29                        3  ...       0      3\n",
            "28/02/20    30                        3  ...       0      3\n",
            "29/02/20    31                        3  ...       0      3\n",
            "01/03/20    32                        3  ...       0      3\n",
            "02/03/20   102                        5  ...       0      5\n",
            "03/03/20   150                        5  ...       0      9\n",
            "04/03/20   255                       12  ...       0     31\n",
            "05/03/20   291                       14  ...       0     33\n",
            "06/03/20   327                       15  ...       0     34\n",
            "07/03/20   492                       18  ...       0     37\n",
            "08/03/20   556                       23  ...       0     42\n",
            "09/03/20   954                       30  ...       0     49\n",
            "10/03/20  1098                       42  ...       0     61\n",
            "11/03/20  1242                       44  ...       0     63\n",
            "12/03/20  1508                       57  ...       0     77\n",
            "13/03/20  1677                       64  ...       1     85\n",
            "14/03/20  1846                       67  ...       2     96\n",
            "15/03/20  2177                       93  ...       2    125\n",
            "16/03/20  2550                       97  ...       2    129\n",
            "17/03/20  2775                      113  ...       3    154\n",
            "18/03/20  3417                      126  ...       3    168\n",
            "19/03/20  4161                      148  ...       4    197\n",
            "20/03/20  4770                      191  ...       4    250\n",
            "21/03/20  5709                      244  ...       4    310\n",
            "\n",
            "[52 rows x 6 columns]\n"
          ],
          "name": "stdout"
        }
      ]
    },
    {
      "cell_type": "markdown",
      "metadata": {
        "id": "YjrAEVwcGsO7"
      },
      "source": [
        "### Plotting Data"
      ]
    },
    {
      "cell_type": "code",
      "metadata": {
        "id": "tz1xsDbG9oes",
        "outputId": "902cfd23-355f-4e5f-c962-e8952928abb7",
        "colab": {
          "base_uri": "https://localhost:8080/",
          "height": 296
        }
      },
      "source": [
        "datae.plot(y=\"Total\")"
      ],
      "execution_count": null,
      "outputs": [
        {
          "output_type": "execute_result",
          "data": {
            "text/plain": [
              "<matplotlib.axes._subplots.AxesSubplot at 0x7f8f1618fa58>"
            ]
          },
          "metadata": {
            "tags": []
          },
          "execution_count": 80
        },
        {
          "output_type": "display_data",
          "data": {
            "image/png": "[encoded data removed]",
            "text/plain": [
              "<Figure size 432x288 with 1 Axes>"
            ]
          },
          "metadata": {
            "tags": [],
            "needs_background": "light"
          }
        }
      ]
    },
    {
      "cell_type": "markdown",
      "metadata": {
        "id": "D-Z8pDNvGwX0"
      },
      "source": [
        "### Finding r"
      ]
    },
    {
      "cell_type": "code",
      "metadata": {
        "id": "rWAyDJ5sBYt-",
        "outputId": "94a789d1-7c98-4811-a3e0-295a396da7d6",
        "colab": {
          "base_uri": "https://localhost:8080/",
          "height": 353
        }
      },
      "source": [
        "#datae[datae[\"Sno\"]==150]\n",
        "new = datae.iloc[34:,5]\n",
        "new"
      ],
      "execution_count": null,
      "outputs": [
        {
          "output_type": "execute_result",
          "data": {
            "text/plain": [
              "Date\n",
              "04/03/20     31\n",
              "05/03/20     33\n",
              "06/03/20     34\n",
              "07/03/20     37\n",
              "08/03/20     42\n",
              "09/03/20     49\n",
              "10/03/20     61\n",
              "11/03/20     63\n",
              "12/03/20     77\n",
              "13/03/20     85\n",
              "14/03/20     96\n",
              "15/03/20    125\n",
              "16/03/20    129\n",
              "17/03/20    154\n",
              "18/03/20    168\n",
              "19/03/20    197\n",
              "20/03/20    250\n",
              "21/03/20    310\n",
              "Name: Total, dtype: int64"
            ]
          },
          "metadata": {
            "tags": []
          },
          "execution_count": 92
        }
      ]
    },
    {
      "cell_type": "code",
      "metadata": {
        "id": "ymQdQJZlEqQE",
        "outputId": "97a3d844-cd21-4f3c-fd33-dbebc8a958d2",
        "colab": {
          "base_uri": "https://localhost:8080/",
          "height": 302
        }
      },
      "source": [
        "list_r=[]\n",
        "for i in range(17):\n",
        "  x=(new[i+1]-new[i])/new[i]\n",
        "  list_r.append(x)\n",
        "\n",
        "list_r"
      ],
      "execution_count": null,
      "outputs": [
        {
          "output_type": "execute_result",
          "data": {
            "text/plain": [
              "[0.06451612903225806,\n",
              " 0.030303030303030304,\n",
              " 0.08823529411764706,\n",
              " 0.13513513513513514,\n",
              " 0.16666666666666666,\n",
              " 0.24489795918367346,\n",
              " 0.03278688524590164,\n",
              " 0.2222222222222222,\n",
              " 0.1038961038961039,\n",
              " 0.12941176470588237,\n",
              " 0.3020833333333333,\n",
              " 0.032,\n",
              " 0.1937984496124031,\n",
              " 0.09090909090909091,\n",
              " 0.17261904761904762,\n",
              " 0.26903553299492383,\n",
              " 0.24]"
            ]
          },
          "metadata": {
            "tags": []
          },
          "execution_count": 94
        }
      ]
    },
    {
      "cell_type": "code",
      "metadata": {
        "id": "A68zEpIDEsiM",
        "outputId": "b01fc199-3d48-47ae-d61f-64c2259e5e8f",
        "colab": {
          "base_uri": "https://localhost:8080/",
          "height": 34
        }
      },
      "source": [
        "#average\n",
        "sum=0\n",
        "for j in range(17):\n",
        "  sum = sum + list_r[i]\n",
        "\n",
        "avg = sum/17\n",
        "print(avg)"
      ],
      "execution_count": null,
      "outputs": [
        {
          "output_type": "stream",
          "text": [
            "0.2400000000000001\n"
          ],
          "name": "stdout"
        }
      ]
    },
    {
      "cell_type": "code",
      "metadata": {
        "id": "r48hIVydElx0"
      },
      "source": [
        "# r = 0.24"
      ],
      "execution_count": null,
      "outputs": []
    },
    {
      "cell_type": "markdown",
      "metadata": {
        "id": "Owz-sVT6G-eT"
      },
      "source": [
        "### Forecasting Value"
      ]
    },
    {
      "cell_type": "code",
      "metadata": {
        "id": "P83Aw__-Ego4",
        "outputId": "83d10937-c68a-4d46-9900-f8c932f27fc6",
        "colab": {
          "base_uri": "https://localhost:8080/",
          "height": 34
        }
      },
      "source": [
        "#Forecasted value\n",
        "31*np.exp(0.24*26)"
      ],
      "execution_count": null,
      "outputs": [
        {
          "output_type": "execute_result",
          "data": {
            "text/plain": [
              "15898.6138392277"
            ]
          },
          "metadata": {
            "tags": []
          },
          "execution_count": 98
        }
      ]
    }
  ]
}